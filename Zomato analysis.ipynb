{
 "cells": [
  {
   "cell_type": "code",
   "execution_count": 1,
   "id": "86a21a0b",
   "metadata": {},
   "outputs": [],
   "source": [
    "import pandas as pd"
   ]
  },
  {
   "cell_type": "code",
   "execution_count": 2,
   "id": "f911a258",
   "metadata": {},
   "outputs": [],
   "source": [
    "df = pd.read_csv(\"./../../Datasets/zomato.csv\")"
   ]
  },
  {
   "cell_type": "code",
   "execution_count": 3,
   "id": "d55ed254",
   "metadata": {},
   "outputs": [
    {
     "data": {
      "text/html": [
       "<div>\n",
       "<style scoped>\n",
       "    .dataframe tbody tr th:only-of-type {\n",
       "        vertical-align: middle;\n",
       "    }\n",
       "\n",
       "    .dataframe tbody tr th {\n",
       "        vertical-align: top;\n",
       "    }\n",
       "\n",
       "    .dataframe thead th {\n",
       "        text-align: right;\n",
       "    }\n",
       "</style>\n",
       "<table border=\"1\" class=\"dataframe\">\n",
       "  <thead>\n",
       "    <tr style=\"text-align: right;\">\n",
       "      <th></th>\n",
       "      <th>Unnamed: 0.1</th>\n",
       "      <th>Unnamed: 0</th>\n",
       "      <th>restaurant name</th>\n",
       "      <th>restaurant type</th>\n",
       "      <th>rate (out of 5)</th>\n",
       "      <th>num of ratings</th>\n",
       "      <th>avg cost (two people)</th>\n",
       "      <th>online_order</th>\n",
       "      <th>table booking</th>\n",
       "      <th>cuisines type</th>\n",
       "      <th>area</th>\n",
       "      <th>local address</th>\n",
       "    </tr>\n",
       "  </thead>\n",
       "  <tbody>\n",
       "    <tr>\n",
       "      <th>0</th>\n",
       "      <td>0</td>\n",
       "      <td>0</td>\n",
       "      <td>#FeelTheROLL</td>\n",
       "      <td>Quick Bites</td>\n",
       "      <td>3.4</td>\n",
       "      <td>7</td>\n",
       "      <td>200.0</td>\n",
       "      <td>No</td>\n",
       "      <td>No</td>\n",
       "      <td>Fast Food</td>\n",
       "      <td>Bellandur</td>\n",
       "      <td>Bellandur</td>\n",
       "    </tr>\n",
       "    <tr>\n",
       "      <th>1</th>\n",
       "      <td>1</td>\n",
       "      <td>1</td>\n",
       "      <td>#L-81 Cafe</td>\n",
       "      <td>Quick Bites</td>\n",
       "      <td>3.9</td>\n",
       "      <td>48</td>\n",
       "      <td>400.0</td>\n",
       "      <td>Yes</td>\n",
       "      <td>No</td>\n",
       "      <td>Fast Food, Beverages</td>\n",
       "      <td>Byresandra,Tavarekere,Madiwala</td>\n",
       "      <td>HSR</td>\n",
       "    </tr>\n",
       "    <tr>\n",
       "      <th>2</th>\n",
       "      <td>2</td>\n",
       "      <td>2</td>\n",
       "      <td>#refuel</td>\n",
       "      <td>Cafe</td>\n",
       "      <td>3.7</td>\n",
       "      <td>37</td>\n",
       "      <td>400.0</td>\n",
       "      <td>Yes</td>\n",
       "      <td>No</td>\n",
       "      <td>Cafe, Beverages</td>\n",
       "      <td>Bannerghatta Road</td>\n",
       "      <td>Bannerghatta Road</td>\n",
       "    </tr>\n",
       "    <tr>\n",
       "      <th>3</th>\n",
       "      <td>3</td>\n",
       "      <td>3</td>\n",
       "      <td>'@ Biryani Central</td>\n",
       "      <td>Casual Dining</td>\n",
       "      <td>2.7</td>\n",
       "      <td>135</td>\n",
       "      <td>550.0</td>\n",
       "      <td>Yes</td>\n",
       "      <td>No</td>\n",
       "      <td>Biryani, Mughlai, Chinese</td>\n",
       "      <td>Marathahalli</td>\n",
       "      <td>Marathahalli</td>\n",
       "    </tr>\n",
       "    <tr>\n",
       "      <th>4</th>\n",
       "      <td>4</td>\n",
       "      <td>4</td>\n",
       "      <td>'@ The Bbq</td>\n",
       "      <td>Casual Dining</td>\n",
       "      <td>2.8</td>\n",
       "      <td>40</td>\n",
       "      <td>700.0</td>\n",
       "      <td>Yes</td>\n",
       "      <td>No</td>\n",
       "      <td>BBQ, Continental, North Indian, Chinese, Bever...</td>\n",
       "      <td>Bellandur</td>\n",
       "      <td>Bellandur</td>\n",
       "    </tr>\n",
       "  </tbody>\n",
       "</table>\n",
       "</div>"
      ],
      "text/plain": [
       "   Unnamed: 0.1  Unnamed: 0     restaurant name restaurant type  \\\n",
       "0             0           0        #FeelTheROLL     Quick Bites   \n",
       "1             1           1          #L-81 Cafe     Quick Bites   \n",
       "2             2           2             #refuel            Cafe   \n",
       "3             3           3  '@ Biryani Central   Casual Dining   \n",
       "4             4           4          '@ The Bbq   Casual Dining   \n",
       "\n",
       "   rate (out of 5)  num of ratings  avg cost (two people) online_order  \\\n",
       "0              3.4               7                  200.0           No   \n",
       "1              3.9              48                  400.0          Yes   \n",
       "2              3.7              37                  400.0          Yes   \n",
       "3              2.7             135                  550.0          Yes   \n",
       "4              2.8              40                  700.0          Yes   \n",
       "\n",
       "  table booking                                      cuisines type  \\\n",
       "0            No                                          Fast Food   \n",
       "1            No                               Fast Food, Beverages   \n",
       "2            No                                    Cafe, Beverages   \n",
       "3            No                          Biryani, Mughlai, Chinese   \n",
       "4            No  BBQ, Continental, North Indian, Chinese, Bever...   \n",
       "\n",
       "                             area      local address  \n",
       "0                       Bellandur          Bellandur  \n",
       "1  Byresandra,Tavarekere,Madiwala                HSR  \n",
       "2               Bannerghatta Road  Bannerghatta Road  \n",
       "3                    Marathahalli       Marathahalli  \n",
       "4                       Bellandur          Bellandur  "
      ]
     },
     "execution_count": 3,
     "metadata": {},
     "output_type": "execute_result"
    }
   ],
   "source": [
    "df.head()"
   ]
  },
  {
   "cell_type": "code",
   "execution_count": 4,
   "id": "7c18909e",
   "metadata": {},
   "outputs": [
    {
     "data": {
      "text/plain": [
       "Index(['Unnamed: 0.1', 'Unnamed: 0', 'restaurant name', 'restaurant type',\n",
       "       'rate (out of 5)', 'num of ratings', 'avg cost (two people)',\n",
       "       'online_order', 'table booking', 'cuisines type', 'area',\n",
       "       'local address'],\n",
       "      dtype='object')"
      ]
     },
     "execution_count": 4,
     "metadata": {},
     "output_type": "execute_result"
    }
   ],
   "source": [
    "df.columns"
   ]
  },
  {
   "cell_type": "code",
   "execution_count": 5,
   "id": "3c737224",
   "metadata": {},
   "outputs": [
    {
     "name": "stdout",
     "output_type": "stream",
     "text": [
      "<class 'pandas.core.frame.DataFrame'>\n",
      "RangeIndex: 7105 entries, 0 to 7104\n",
      "Data columns (total 12 columns):\n",
      " #   Column                 Non-Null Count  Dtype  \n",
      "---  ------                 --------------  -----  \n",
      " 0   Unnamed: 0.1           7105 non-null   int64  \n",
      " 1   Unnamed: 0             7105 non-null   int64  \n",
      " 2   restaurant name        7105 non-null   object \n",
      " 3   restaurant type        7105 non-null   object \n",
      " 4   rate (out of 5)        7037 non-null   float64\n",
      " 5   num of ratings         7105 non-null   int64  \n",
      " 6   avg cost (two people)  7048 non-null   float64\n",
      " 7   online_order           7105 non-null   object \n",
      " 8   table booking          7105 non-null   object \n",
      " 9   cuisines type          7105 non-null   object \n",
      " 10  area                   7105 non-null   object \n",
      " 11  local address          7105 non-null   object \n",
      "dtypes: float64(2), int64(3), object(7)\n",
      "memory usage: 666.2+ KB\n"
     ]
    }
   ],
   "source": [
    "df.info()"
   ]
  },
  {
   "cell_type": "code",
   "execution_count": 6,
   "id": "945f122f",
   "metadata": {},
   "outputs": [
    {
     "data": {
      "text/plain": [
       "Unnamed: 0.1               int64\n",
       "Unnamed: 0                 int64\n",
       "restaurant name           object\n",
       "restaurant type           object\n",
       "rate (out of 5)          float64\n",
       "num of ratings             int64\n",
       "avg cost (two people)    float64\n",
       "online_order              object\n",
       "table booking             object\n",
       "cuisines type             object\n",
       "area                      object\n",
       "local address             object\n",
       "dtype: object"
      ]
     },
     "execution_count": 6,
     "metadata": {},
     "output_type": "execute_result"
    }
   ],
   "source": [
    "df.dtypes"
   ]
  },
  {
   "cell_type": "code",
   "execution_count": 7,
   "id": "0f8e8d70",
   "metadata": {},
   "outputs": [
    {
     "data": {
      "text/html": [
       "<div>\n",
       "<style scoped>\n",
       "    .dataframe tbody tr th:only-of-type {\n",
       "        vertical-align: middle;\n",
       "    }\n",
       "\n",
       "    .dataframe tbody tr th {\n",
       "        vertical-align: top;\n",
       "    }\n",
       "\n",
       "    .dataframe thead th {\n",
       "        text-align: right;\n",
       "    }\n",
       "</style>\n",
       "<table border=\"1\" class=\"dataframe\">\n",
       "  <thead>\n",
       "    <tr style=\"text-align: right;\">\n",
       "      <th></th>\n",
       "      <th>Unnamed: 0.1</th>\n",
       "      <th>Unnamed: 0</th>\n",
       "      <th>restaurant name</th>\n",
       "      <th>restaurant type</th>\n",
       "      <th>rate (out of 5)</th>\n",
       "      <th>num of ratings</th>\n",
       "      <th>avg cost (two people)</th>\n",
       "      <th>online_order</th>\n",
       "      <th>table booking</th>\n",
       "      <th>cuisines type</th>\n",
       "      <th>area</th>\n",
       "      <th>local address</th>\n",
       "    </tr>\n",
       "  </thead>\n",
       "  <tbody>\n",
       "    <tr>\n",
       "      <th>7100</th>\n",
       "      <td>7100</td>\n",
       "      <td>7100</td>\n",
       "      <td>Zoey's</td>\n",
       "      <td>Cafe</td>\n",
       "      <td>4.3</td>\n",
       "      <td>894</td>\n",
       "      <td>600.0</td>\n",
       "      <td>Yes</td>\n",
       "      <td>No</td>\n",
       "      <td>Cafe, Italian, Continental, Burger</td>\n",
       "      <td>Bellandur</td>\n",
       "      <td>Sarjapur Road</td>\n",
       "    </tr>\n",
       "    <tr>\n",
       "      <th>7101</th>\n",
       "      <td>7101</td>\n",
       "      <td>7101</td>\n",
       "      <td>ZOROY Luxury Chocolate</td>\n",
       "      <td>Dessert Parlor</td>\n",
       "      <td>4.0</td>\n",
       "      <td>68</td>\n",
       "      <td>250.0</td>\n",
       "      <td>Yes</td>\n",
       "      <td>No</td>\n",
       "      <td>Desserts</td>\n",
       "      <td>Brigade Road</td>\n",
       "      <td>Church Street</td>\n",
       "    </tr>\n",
       "    <tr>\n",
       "      <th>7102</th>\n",
       "      <td>7102</td>\n",
       "      <td>7102</td>\n",
       "      <td>Zu's Doner Kebaps</td>\n",
       "      <td>Takeaway, Delivery</td>\n",
       "      <td>3.7</td>\n",
       "      <td>33</td>\n",
       "      <td>350.0</td>\n",
       "      <td>No</td>\n",
       "      <td>No</td>\n",
       "      <td>Turkish, Fast Food, Biryani, Chinese</td>\n",
       "      <td>Malleshwaram</td>\n",
       "      <td>RT Nagar</td>\n",
       "    </tr>\n",
       "    <tr>\n",
       "      <th>7103</th>\n",
       "      <td>7103</td>\n",
       "      <td>7103</td>\n",
       "      <td>Zyara</td>\n",
       "      <td>Casual Dining</td>\n",
       "      <td>3.8</td>\n",
       "      <td>191</td>\n",
       "      <td>650.0</td>\n",
       "      <td>Yes</td>\n",
       "      <td>No</td>\n",
       "      <td>North Indian, Mughlai, Chinese</td>\n",
       "      <td>Kammanahalli</td>\n",
       "      <td>HBR Layout</td>\n",
       "    </tr>\n",
       "    <tr>\n",
       "      <th>7104</th>\n",
       "      <td>7104</td>\n",
       "      <td>7104</td>\n",
       "      <td>Zyksha</td>\n",
       "      <td>Food Truck</td>\n",
       "      <td>3.4</td>\n",
       "      <td>9</td>\n",
       "      <td>200.0</td>\n",
       "      <td>No</td>\n",
       "      <td>No</td>\n",
       "      <td>Fast Food</td>\n",
       "      <td>Bannerghatta Road</td>\n",
       "      <td>South Bangalore</td>\n",
       "    </tr>\n",
       "  </tbody>\n",
       "</table>\n",
       "</div>"
      ],
      "text/plain": [
       "      Unnamed: 0.1  Unnamed: 0         restaurant name     restaurant type  \\\n",
       "7100          7100        7100                  Zoey's                Cafe   \n",
       "7101          7101        7101  ZOROY Luxury Chocolate      Dessert Parlor   \n",
       "7102          7102        7102       Zu's Doner Kebaps  Takeaway, Delivery   \n",
       "7103          7103        7103                   Zyara       Casual Dining   \n",
       "7104          7104        7104                  Zyksha          Food Truck   \n",
       "\n",
       "      rate (out of 5)  num of ratings  avg cost (two people) online_order  \\\n",
       "7100              4.3             894                  600.0          Yes   \n",
       "7101              4.0              68                  250.0          Yes   \n",
       "7102              3.7              33                  350.0           No   \n",
       "7103              3.8             191                  650.0          Yes   \n",
       "7104              3.4               9                  200.0           No   \n",
       "\n",
       "     table booking                         cuisines type               area  \\\n",
       "7100            No    Cafe, Italian, Continental, Burger          Bellandur   \n",
       "7101            No                              Desserts       Brigade Road   \n",
       "7102            No  Turkish, Fast Food, Biryani, Chinese       Malleshwaram   \n",
       "7103            No        North Indian, Mughlai, Chinese       Kammanahalli   \n",
       "7104            No                             Fast Food  Bannerghatta Road   \n",
       "\n",
       "        local address  \n",
       "7100    Sarjapur Road  \n",
       "7101    Church Street  \n",
       "7102         RT Nagar  \n",
       "7103       HBR Layout  \n",
       "7104  South Bangalore  "
      ]
     },
     "execution_count": 7,
     "metadata": {},
     "output_type": "execute_result"
    }
   ],
   "source": [
    "df.tail()"
   ]
  },
  {
   "cell_type": "code",
   "execution_count": 8,
   "id": "1ecb639d",
   "metadata": {},
   "outputs": [],
   "source": [
    "columns_to_remove = ['Unnamed: 0.1', 'Unnamed: 0']  # List of columns to remove\n",
    "df.drop(columns=columns_to_remove,inplace=True)\n"
   ]
  },
  {
   "cell_type": "code",
   "execution_count": 9,
   "id": "36414922",
   "metadata": {},
   "outputs": [
    {
     "data": {
      "text/html": [
       "<div>\n",
       "<style scoped>\n",
       "    .dataframe tbody tr th:only-of-type {\n",
       "        vertical-align: middle;\n",
       "    }\n",
       "\n",
       "    .dataframe tbody tr th {\n",
       "        vertical-align: top;\n",
       "    }\n",
       "\n",
       "    .dataframe thead th {\n",
       "        text-align: right;\n",
       "    }\n",
       "</style>\n",
       "<table border=\"1\" class=\"dataframe\">\n",
       "  <thead>\n",
       "    <tr style=\"text-align: right;\">\n",
       "      <th></th>\n",
       "      <th>restaurant name</th>\n",
       "      <th>restaurant type</th>\n",
       "      <th>rate (out of 5)</th>\n",
       "      <th>num of ratings</th>\n",
       "      <th>avg cost (two people)</th>\n",
       "      <th>online_order</th>\n",
       "      <th>table booking</th>\n",
       "      <th>cuisines type</th>\n",
       "      <th>area</th>\n",
       "      <th>local address</th>\n",
       "    </tr>\n",
       "  </thead>\n",
       "  <tbody>\n",
       "    <tr>\n",
       "      <th>0</th>\n",
       "      <td>#FeelTheROLL</td>\n",
       "      <td>Quick Bites</td>\n",
       "      <td>3.4</td>\n",
       "      <td>7</td>\n",
       "      <td>200.0</td>\n",
       "      <td>No</td>\n",
       "      <td>No</td>\n",
       "      <td>Fast Food</td>\n",
       "      <td>Bellandur</td>\n",
       "      <td>Bellandur</td>\n",
       "    </tr>\n",
       "    <tr>\n",
       "      <th>1</th>\n",
       "      <td>#L-81 Cafe</td>\n",
       "      <td>Quick Bites</td>\n",
       "      <td>3.9</td>\n",
       "      <td>48</td>\n",
       "      <td>400.0</td>\n",
       "      <td>Yes</td>\n",
       "      <td>No</td>\n",
       "      <td>Fast Food, Beverages</td>\n",
       "      <td>Byresandra,Tavarekere,Madiwala</td>\n",
       "      <td>HSR</td>\n",
       "    </tr>\n",
       "    <tr>\n",
       "      <th>2</th>\n",
       "      <td>#refuel</td>\n",
       "      <td>Cafe</td>\n",
       "      <td>3.7</td>\n",
       "      <td>37</td>\n",
       "      <td>400.0</td>\n",
       "      <td>Yes</td>\n",
       "      <td>No</td>\n",
       "      <td>Cafe, Beverages</td>\n",
       "      <td>Bannerghatta Road</td>\n",
       "      <td>Bannerghatta Road</td>\n",
       "    </tr>\n",
       "    <tr>\n",
       "      <th>3</th>\n",
       "      <td>'@ Biryani Central</td>\n",
       "      <td>Casual Dining</td>\n",
       "      <td>2.7</td>\n",
       "      <td>135</td>\n",
       "      <td>550.0</td>\n",
       "      <td>Yes</td>\n",
       "      <td>No</td>\n",
       "      <td>Biryani, Mughlai, Chinese</td>\n",
       "      <td>Marathahalli</td>\n",
       "      <td>Marathahalli</td>\n",
       "    </tr>\n",
       "    <tr>\n",
       "      <th>4</th>\n",
       "      <td>'@ The Bbq</td>\n",
       "      <td>Casual Dining</td>\n",
       "      <td>2.8</td>\n",
       "      <td>40</td>\n",
       "      <td>700.0</td>\n",
       "      <td>Yes</td>\n",
       "      <td>No</td>\n",
       "      <td>BBQ, Continental, North Indian, Chinese, Bever...</td>\n",
       "      <td>Bellandur</td>\n",
       "      <td>Bellandur</td>\n",
       "    </tr>\n",
       "  </tbody>\n",
       "</table>\n",
       "</div>"
      ],
      "text/plain": [
       "      restaurant name restaurant type  rate (out of 5)  num of ratings  \\\n",
       "0        #FeelTheROLL     Quick Bites              3.4               7   \n",
       "1          #L-81 Cafe     Quick Bites              3.9              48   \n",
       "2             #refuel            Cafe              3.7              37   \n",
       "3  '@ Biryani Central   Casual Dining              2.7             135   \n",
       "4          '@ The Bbq   Casual Dining              2.8              40   \n",
       "\n",
       "   avg cost (two people) online_order table booking  \\\n",
       "0                  200.0           No            No   \n",
       "1                  400.0          Yes            No   \n",
       "2                  400.0          Yes            No   \n",
       "3                  550.0          Yes            No   \n",
       "4                  700.0          Yes            No   \n",
       "\n",
       "                                       cuisines type  \\\n",
       "0                                          Fast Food   \n",
       "1                               Fast Food, Beverages   \n",
       "2                                    Cafe, Beverages   \n",
       "3                          Biryani, Mughlai, Chinese   \n",
       "4  BBQ, Continental, North Indian, Chinese, Bever...   \n",
       "\n",
       "                             area      local address  \n",
       "0                       Bellandur          Bellandur  \n",
       "1  Byresandra,Tavarekere,Madiwala                HSR  \n",
       "2               Bannerghatta Road  Bannerghatta Road  \n",
       "3                    Marathahalli       Marathahalli  \n",
       "4                       Bellandur          Bellandur  "
      ]
     },
     "execution_count": 9,
     "metadata": {},
     "output_type": "execute_result"
    }
   ],
   "source": [
    "df.head()"
   ]
  },
  {
   "cell_type": "code",
   "execution_count": 10,
   "id": "4209b04e",
   "metadata": {},
   "outputs": [
    {
     "data": {
      "text/plain": [
       "(7105, 10)"
      ]
     },
     "execution_count": 10,
     "metadata": {},
     "output_type": "execute_result"
    }
   ],
   "source": [
    "df.shape"
   ]
  },
  {
   "cell_type": "code",
   "execution_count": 11,
   "id": "f8868d69",
   "metadata": {},
   "outputs": [
    {
     "data": {
      "text/plain": [
       "restaurant name           0\n",
       "restaurant type           0\n",
       "rate (out of 5)          68\n",
       "num of ratings            0\n",
       "avg cost (two people)    57\n",
       "online_order              0\n",
       "table booking             0\n",
       "cuisines type             0\n",
       "area                      0\n",
       "local address             0\n",
       "dtype: int64"
      ]
     },
     "execution_count": 11,
     "metadata": {},
     "output_type": "execute_result"
    }
   ],
   "source": [
    "df.isnull().sum()"
   ]
  },
  {
   "cell_type": "code",
   "execution_count": 12,
   "id": "af149910",
   "metadata": {},
   "outputs": [
    {
     "data": {
      "text/plain": [
       "(6984, 10)"
      ]
     },
     "execution_count": 12,
     "metadata": {},
     "output_type": "execute_result"
    }
   ],
   "source": [
    "df.dropna().shape"
   ]
  },
  {
   "cell_type": "code",
   "execution_count": 13,
   "id": "2bbd2e29",
   "metadata": {},
   "outputs": [],
   "source": [
    "df.dropna(inplace=True)"
   ]
  },
  {
   "cell_type": "code",
   "execution_count": 14,
   "id": "065c687e",
   "metadata": {},
   "outputs": [
    {
     "data": {
      "text/plain": [
       "(6984, 10)"
      ]
     },
     "execution_count": 14,
     "metadata": {},
     "output_type": "execute_result"
    }
   ],
   "source": [
    "df.shape"
   ]
  },
  {
   "cell_type": "code",
   "execution_count": 15,
   "id": "1b924b7a",
   "metadata": {},
   "outputs": [],
   "source": [
    "restaurant_type_value_counts = df['restaurant type'].value_counts()"
   ]
  },
  {
   "cell_type": "code",
   "execution_count": 16,
   "id": "7bc9cb88",
   "metadata": {},
   "outputs": [
    {
     "data": {
      "text/plain": [
       "Quick Bites              2784\n",
       "Casual Dining            1620\n",
       "Cafe                      395\n",
       "Delivery                  346\n",
       "Takeaway, Delivery        283\n",
       "                         ... \n",
       "Microbrewery, Lounge        1\n",
       "Bakery, Beverage Shop       1\n",
       "Bar, Pub                    1\n",
       "Quick Bites, Mess           1\n",
       "Club, Casual Dining         1\n",
       "Name: restaurant type, Length: 81, dtype: int64"
      ]
     },
     "execution_count": 16,
     "metadata": {},
     "output_type": "execute_result"
    }
   ],
   "source": [
    "restaurant_type_value_counts"
   ]
  },
  {
   "cell_type": "code",
   "execution_count": 17,
   "id": "ef9064e8",
   "metadata": {},
   "outputs": [
    {
     "data": {
      "text/html": [
       "<div>\n",
       "<style scoped>\n",
       "    .dataframe tbody tr th:only-of-type {\n",
       "        vertical-align: middle;\n",
       "    }\n",
       "\n",
       "    .dataframe tbody tr th {\n",
       "        vertical-align: top;\n",
       "    }\n",
       "\n",
       "    .dataframe thead th {\n",
       "        text-align: right;\n",
       "    }\n",
       "</style>\n",
       "<table border=\"1\" class=\"dataframe\">\n",
       "  <thead>\n",
       "    <tr style=\"text-align: right;\">\n",
       "      <th></th>\n",
       "      <th>restaurant type</th>\n",
       "      <th>count</th>\n",
       "    </tr>\n",
       "  </thead>\n",
       "  <tbody>\n",
       "    <tr>\n",
       "      <th>0</th>\n",
       "      <td>Quick Bites</td>\n",
       "      <td>2784</td>\n",
       "    </tr>\n",
       "    <tr>\n",
       "      <th>1</th>\n",
       "      <td>Casual Dining</td>\n",
       "      <td>1620</td>\n",
       "    </tr>\n",
       "    <tr>\n",
       "      <th>2</th>\n",
       "      <td>Cafe</td>\n",
       "      <td>395</td>\n",
       "    </tr>\n",
       "    <tr>\n",
       "      <th>3</th>\n",
       "      <td>Delivery</td>\n",
       "      <td>346</td>\n",
       "    </tr>\n",
       "    <tr>\n",
       "      <th>4</th>\n",
       "      <td>Takeaway, Delivery</td>\n",
       "      <td>283</td>\n",
       "    </tr>\n",
       "    <tr>\n",
       "      <th>...</th>\n",
       "      <td>...</td>\n",
       "      <td>...</td>\n",
       "    </tr>\n",
       "    <tr>\n",
       "      <th>76</th>\n",
       "      <td>Microbrewery, Lounge</td>\n",
       "      <td>1</td>\n",
       "    </tr>\n",
       "    <tr>\n",
       "      <th>77</th>\n",
       "      <td>Bakery, Beverage Shop</td>\n",
       "      <td>1</td>\n",
       "    </tr>\n",
       "    <tr>\n",
       "      <th>78</th>\n",
       "      <td>Bar, Pub</td>\n",
       "      <td>1</td>\n",
       "    </tr>\n",
       "    <tr>\n",
       "      <th>79</th>\n",
       "      <td>Quick Bites, Mess</td>\n",
       "      <td>1</td>\n",
       "    </tr>\n",
       "    <tr>\n",
       "      <th>80</th>\n",
       "      <td>Club, Casual Dining</td>\n",
       "      <td>1</td>\n",
       "    </tr>\n",
       "  </tbody>\n",
       "</table>\n",
       "<p>81 rows × 2 columns</p>\n",
       "</div>"
      ],
      "text/plain": [
       "          restaurant type  count\n",
       "0             Quick Bites   2784\n",
       "1           Casual Dining   1620\n",
       "2                    Cafe    395\n",
       "3                Delivery    346\n",
       "4      Takeaway, Delivery    283\n",
       "..                    ...    ...\n",
       "76   Microbrewery, Lounge      1\n",
       "77  Bakery, Beverage Shop      1\n",
       "78               Bar, Pub      1\n",
       "79      Quick Bites, Mess      1\n",
       "80    Club, Casual Dining      1\n",
       "\n",
       "[81 rows x 2 columns]"
      ]
     },
     "execution_count": 17,
     "metadata": {},
     "output_type": "execute_result"
    }
   ],
   "source": [
    "#keeping in dataframe to view properly\n",
    "restaurant_type_value_counts = restaurant_type_value_counts.reset_index()\n",
    "restaurant_type_value_counts.columns = ['restaurant type', 'count']\n",
    "restaurant_type_value_counts\n"
   ]
  },
  {
   "cell_type": "markdown",
   "id": "ac1e5475",
   "metadata": {},
   "source": [
    "### There are 82 unique types of restaurant"
   ]
  },
  {
   "cell_type": "markdown",
   "id": "1bb93ecf",
   "metadata": {},
   "source": [
    "### lets check top 20 restaurants that have most orders\n"
   ]
  },
  {
   "cell_type": "code",
   "execution_count": 18,
   "id": "8f6230e5",
   "metadata": {},
   "outputs": [
    {
     "data": {
      "text/html": [
       "<div>\n",
       "<style scoped>\n",
       "    .dataframe tbody tr th:only-of-type {\n",
       "        vertical-align: middle;\n",
       "    }\n",
       "\n",
       "    .dataframe tbody tr th {\n",
       "        vertical-align: top;\n",
       "    }\n",
       "\n",
       "    .dataframe thead th {\n",
       "        text-align: right;\n",
       "    }\n",
       "</style>\n",
       "<table border=\"1\" class=\"dataframe\">\n",
       "  <thead>\n",
       "    <tr style=\"text-align: right;\">\n",
       "      <th></th>\n",
       "      <th>restaurant type</th>\n",
       "      <th>count</th>\n",
       "    </tr>\n",
       "  </thead>\n",
       "  <tbody>\n",
       "    <tr>\n",
       "      <th>0</th>\n",
       "      <td>Quick Bites</td>\n",
       "      <td>2784</td>\n",
       "    </tr>\n",
       "    <tr>\n",
       "      <th>1</th>\n",
       "      <td>Casual Dining</td>\n",
       "      <td>1620</td>\n",
       "    </tr>\n",
       "    <tr>\n",
       "      <th>2</th>\n",
       "      <td>Cafe</td>\n",
       "      <td>395</td>\n",
       "    </tr>\n",
       "    <tr>\n",
       "      <th>3</th>\n",
       "      <td>Delivery</td>\n",
       "      <td>346</td>\n",
       "    </tr>\n",
       "    <tr>\n",
       "      <th>4</th>\n",
       "      <td>Takeaway, Delivery</td>\n",
       "      <td>283</td>\n",
       "    </tr>\n",
       "    <tr>\n",
       "      <th>5</th>\n",
       "      <td>Dessert Parlor</td>\n",
       "      <td>212</td>\n",
       "    </tr>\n",
       "    <tr>\n",
       "      <th>6</th>\n",
       "      <td>Bakery</td>\n",
       "      <td>149</td>\n",
       "    </tr>\n",
       "    <tr>\n",
       "      <th>7</th>\n",
       "      <td>Casual Dining, Bar</td>\n",
       "      <td>121</td>\n",
       "    </tr>\n",
       "    <tr>\n",
       "      <th>8</th>\n",
       "      <td>Beverage Shop</td>\n",
       "      <td>115</td>\n",
       "    </tr>\n",
       "    <tr>\n",
       "      <th>9</th>\n",
       "      <td>Bar</td>\n",
       "      <td>81</td>\n",
       "    </tr>\n",
       "    <tr>\n",
       "      <th>10</th>\n",
       "      <td>Food Court</td>\n",
       "      <td>79</td>\n",
       "    </tr>\n",
       "    <tr>\n",
       "      <th>11</th>\n",
       "      <td>Fine Dining</td>\n",
       "      <td>79</td>\n",
       "    </tr>\n",
       "    <tr>\n",
       "      <th>12</th>\n",
       "      <td>Lounge</td>\n",
       "      <td>58</td>\n",
       "    </tr>\n",
       "    <tr>\n",
       "      <th>13</th>\n",
       "      <td>Bar, Casual Dining</td>\n",
       "      <td>53</td>\n",
       "    </tr>\n",
       "    <tr>\n",
       "      <th>14</th>\n",
       "      <td>Sweet Shop</td>\n",
       "      <td>46</td>\n",
       "    </tr>\n",
       "    <tr>\n",
       "      <th>15</th>\n",
       "      <td>Mess</td>\n",
       "      <td>45</td>\n",
       "    </tr>\n",
       "    <tr>\n",
       "      <th>16</th>\n",
       "      <td>Kiosk</td>\n",
       "      <td>36</td>\n",
       "    </tr>\n",
       "    <tr>\n",
       "      <th>17</th>\n",
       "      <td>Pub</td>\n",
       "      <td>34</td>\n",
       "    </tr>\n",
       "    <tr>\n",
       "      <th>18</th>\n",
       "      <td>Sweet Shop, Quick Bites</td>\n",
       "      <td>31</td>\n",
       "    </tr>\n",
       "    <tr>\n",
       "      <th>19</th>\n",
       "      <td>Beverage Shop, Quick Bites</td>\n",
       "      <td>28</td>\n",
       "    </tr>\n",
       "  </tbody>\n",
       "</table>\n",
       "</div>"
      ],
      "text/plain": [
       "               restaurant type  count\n",
       "0                  Quick Bites   2784\n",
       "1                Casual Dining   1620\n",
       "2                         Cafe    395\n",
       "3                     Delivery    346\n",
       "4           Takeaway, Delivery    283\n",
       "5               Dessert Parlor    212\n",
       "6                       Bakery    149\n",
       "7           Casual Dining, Bar    121\n",
       "8                Beverage Shop    115\n",
       "9                          Bar     81\n",
       "10                  Food Court     79\n",
       "11                 Fine Dining     79\n",
       "12                      Lounge     58\n",
       "13          Bar, Casual Dining     53\n",
       "14                  Sweet Shop     46\n",
       "15                        Mess     45\n",
       "16                       Kiosk     36\n",
       "17                         Pub     34\n",
       "18     Sweet Shop, Quick Bites     31\n",
       "19  Beverage Shop, Quick Bites     28"
      ]
     },
     "execution_count": 18,
     "metadata": {},
     "output_type": "execute_result"
    }
   ],
   "source": [
    "restaurant_type_value_counts.head(20)"
   ]
  },
  {
   "cell_type": "markdown",
   "id": "e77507c0",
   "metadata": {},
   "source": [
    "### Let us check bottom 10 restaurant type"
   ]
  },
  {
   "cell_type": "code",
   "execution_count": 19,
   "id": "e7a87921",
   "metadata": {},
   "outputs": [
    {
     "data": {
      "text/html": [
       "<div>\n",
       "<style scoped>\n",
       "    .dataframe tbody tr th:only-of-type {\n",
       "        vertical-align: middle;\n",
       "    }\n",
       "\n",
       "    .dataframe tbody tr th {\n",
       "        vertical-align: top;\n",
       "    }\n",
       "\n",
       "    .dataframe thead th {\n",
       "        text-align: right;\n",
       "    }\n",
       "</style>\n",
       "<table border=\"1\" class=\"dataframe\">\n",
       "  <thead>\n",
       "    <tr style=\"text-align: right;\">\n",
       "      <th></th>\n",
       "      <th>restaurant type</th>\n",
       "      <th>count</th>\n",
       "    </tr>\n",
       "  </thead>\n",
       "  <tbody>\n",
       "    <tr>\n",
       "      <th>61</th>\n",
       "      <td>Casual Dining, Sweet Shop</td>\n",
       "      <td>1</td>\n",
       "    </tr>\n",
       "    <tr>\n",
       "      <th>62</th>\n",
       "      <td>Microbrewery, Bar</td>\n",
       "      <td>1</td>\n",
       "    </tr>\n",
       "    <tr>\n",
       "      <th>63</th>\n",
       "      <td>Quick Bites, Food Court</td>\n",
       "      <td>1</td>\n",
       "    </tr>\n",
       "    <tr>\n",
       "      <th>64</th>\n",
       "      <td>Quick Bites, Meat Shop</td>\n",
       "      <td>1</td>\n",
       "    </tr>\n",
       "    <tr>\n",
       "      <th>65</th>\n",
       "      <td>Casual Dining, Irani Cafee</td>\n",
       "      <td>1</td>\n",
       "    </tr>\n",
       "    <tr>\n",
       "      <th>66</th>\n",
       "      <td>Food Court, Beverage Shop</td>\n",
       "      <td>1</td>\n",
       "    </tr>\n",
       "    <tr>\n",
       "      <th>67</th>\n",
       "      <td>Fine Dining, Lounge</td>\n",
       "      <td>1</td>\n",
       "    </tr>\n",
       "    <tr>\n",
       "      <th>68</th>\n",
       "      <td>Fine Dining, Microbrewery</td>\n",
       "      <td>1</td>\n",
       "    </tr>\n",
       "    <tr>\n",
       "      <th>69</th>\n",
       "      <td>Lounge, Microbrewery</td>\n",
       "      <td>1</td>\n",
       "    </tr>\n",
       "    <tr>\n",
       "      <th>70</th>\n",
       "      <td>Dessert Parlor, Food Court</td>\n",
       "      <td>1</td>\n",
       "    </tr>\n",
       "    <tr>\n",
       "      <th>71</th>\n",
       "      <td>Lounge, Cafe</td>\n",
       "      <td>1</td>\n",
       "    </tr>\n",
       "    <tr>\n",
       "      <th>72</th>\n",
       "      <td>Food Court, Dessert Parlor</td>\n",
       "      <td>1</td>\n",
       "    </tr>\n",
       "    <tr>\n",
       "      <th>73</th>\n",
       "      <td>Casual Dining, Quick Bites</td>\n",
       "      <td>1</td>\n",
       "    </tr>\n",
       "    <tr>\n",
       "      <th>74</th>\n",
       "      <td>Cafe, Lounge</td>\n",
       "      <td>1</td>\n",
       "    </tr>\n",
       "    <tr>\n",
       "      <th>75</th>\n",
       "      <td>Cafe, Bar</td>\n",
       "      <td>1</td>\n",
       "    </tr>\n",
       "    <tr>\n",
       "      <th>76</th>\n",
       "      <td>Microbrewery, Lounge</td>\n",
       "      <td>1</td>\n",
       "    </tr>\n",
       "    <tr>\n",
       "      <th>77</th>\n",
       "      <td>Bakery, Beverage Shop</td>\n",
       "      <td>1</td>\n",
       "    </tr>\n",
       "    <tr>\n",
       "      <th>78</th>\n",
       "      <td>Bar, Pub</td>\n",
       "      <td>1</td>\n",
       "    </tr>\n",
       "    <tr>\n",
       "      <th>79</th>\n",
       "      <td>Quick Bites, Mess</td>\n",
       "      <td>1</td>\n",
       "    </tr>\n",
       "    <tr>\n",
       "      <th>80</th>\n",
       "      <td>Club, Casual Dining</td>\n",
       "      <td>1</td>\n",
       "    </tr>\n",
       "  </tbody>\n",
       "</table>\n",
       "</div>"
      ],
      "text/plain": [
       "               restaurant type  count\n",
       "61   Casual Dining, Sweet Shop      1\n",
       "62           Microbrewery, Bar      1\n",
       "63     Quick Bites, Food Court      1\n",
       "64      Quick Bites, Meat Shop      1\n",
       "65  Casual Dining, Irani Cafee      1\n",
       "66   Food Court, Beverage Shop      1\n",
       "67         Fine Dining, Lounge      1\n",
       "68   Fine Dining, Microbrewery      1\n",
       "69        Lounge, Microbrewery      1\n",
       "70  Dessert Parlor, Food Court      1\n",
       "71                Lounge, Cafe      1\n",
       "72  Food Court, Dessert Parlor      1\n",
       "73  Casual Dining, Quick Bites      1\n",
       "74                Cafe, Lounge      1\n",
       "75                   Cafe, Bar      1\n",
       "76        Microbrewery, Lounge      1\n",
       "77       Bakery, Beverage Shop      1\n",
       "78                    Bar, Pub      1\n",
       "79           Quick Bites, Mess      1\n",
       "80         Club, Casual Dining      1"
      ]
     },
     "execution_count": 19,
     "metadata": {},
     "output_type": "execute_result"
    }
   ],
   "source": [
    "restaurant_type_value_counts.tail(20)"
   ]
  },
  {
   "cell_type": "markdown",
   "id": "1d481186",
   "metadata": {},
   "source": [
    "---\n",
    " <span style=\"color:red\">*From above we get to know that types that are mixed variety or are having raw supplies are less ordered from*</span>\n",
    "---\n",
    " \n",
    "\n"
   ]
  },
  {
   "cell_type": "code",
   "execution_count": 20,
   "id": "74fdb757",
   "metadata": {},
   "outputs": [
    {
     "data": {
      "text/html": [
       "<div>\n",
       "<style scoped>\n",
       "    .dataframe tbody tr th:only-of-type {\n",
       "        vertical-align: middle;\n",
       "    }\n",
       "\n",
       "    .dataframe tbody tr th {\n",
       "        vertical-align: top;\n",
       "    }\n",
       "\n",
       "    .dataframe thead th {\n",
       "        text-align: right;\n",
       "    }\n",
       "</style>\n",
       "<table border=\"1\" class=\"dataframe\">\n",
       "  <thead>\n",
       "    <tr style=\"text-align: right;\">\n",
       "      <th></th>\n",
       "      <th>restaurant type</th>\n",
       "      <th>online_order</th>\n",
       "      <th>table booking</th>\n",
       "      <th>cuisines type</th>\n",
       "      <th>area</th>\n",
       "      <th>local address</th>\n",
       "    </tr>\n",
       "  </thead>\n",
       "  <tbody>\n",
       "    <tr>\n",
       "      <th>0</th>\n",
       "      <td>Quick Bites</td>\n",
       "      <td>No</td>\n",
       "      <td>No</td>\n",
       "      <td>Fast Food</td>\n",
       "      <td>Bellandur</td>\n",
       "      <td>Bellandur</td>\n",
       "    </tr>\n",
       "    <tr>\n",
       "      <th>1</th>\n",
       "      <td>Quick Bites</td>\n",
       "      <td>Yes</td>\n",
       "      <td>No</td>\n",
       "      <td>Fast Food, Beverages</td>\n",
       "      <td>Byresandra,Tavarekere,Madiwala</td>\n",
       "      <td>HSR</td>\n",
       "    </tr>\n",
       "    <tr>\n",
       "      <th>2</th>\n",
       "      <td>Cafe</td>\n",
       "      <td>Yes</td>\n",
       "      <td>No</td>\n",
       "      <td>Cafe, Beverages</td>\n",
       "      <td>Bannerghatta Road</td>\n",
       "      <td>Bannerghatta Road</td>\n",
       "    </tr>\n",
       "  </tbody>\n",
       "</table>\n",
       "</div>"
      ],
      "text/plain": [
       "  restaurant type online_order table booking         cuisines type  \\\n",
       "0     Quick Bites           No            No             Fast Food   \n",
       "1     Quick Bites          Yes            No  Fast Food, Beverages   \n",
       "2            Cafe          Yes            No       Cafe, Beverages   \n",
       "\n",
       "                             area      local address  \n",
       "0                       Bellandur          Bellandur  \n",
       "1  Byresandra,Tavarekere,Madiwala                HSR  \n",
       "2               Bannerghatta Road  Bannerghatta Road  "
      ]
     },
     "execution_count": 20,
     "metadata": {},
     "output_type": "execute_result"
    }
   ],
   "source": [
    "#Getting to know what categorical values are having values\n",
    "categorical_columns = ['restaurant type', 'online_order', 'table booking', 'cuisines type', 'area', 'local address']\n",
    "subset = df.loc[0:2, categorical_columns]\n",
    "subset"
   ]
  },
  {
   "cell_type": "markdown",
   "id": "715f27e9",
   "metadata": {},
   "source": [
    " "
   ]
  },
  {
   "cell_type": "markdown",
   "id": "3a777f2c",
   "metadata": {},
   "source": [
    "### Getting all unique values\n"
   ]
  },
  {
   "cell_type": "code",
   "execution_count": 21,
   "id": "0c590c3a",
   "metadata": {},
   "outputs": [
    {
     "data": {
      "text/plain": [
       "30"
      ]
     },
     "execution_count": 21,
     "metadata": {},
     "output_type": "execute_result"
    }
   ],
   "source": [
    "len(df['area'].unique())"
   ]
  },
  {
   "cell_type": "markdown",
   "id": "824039ee",
   "metadata": {},
   "source": [
    "#### This means there are 30 regions from where food has been ordered"
   ]
  },
  {
   "cell_type": "code",
   "execution_count": 22,
   "id": "1c412b38",
   "metadata": {},
   "outputs": [
    {
     "name": "stdout",
     "output_type": "stream",
     "text": [
      "There are  2155 different kind of food cuisine\n",
      "Which are most popular food type:\n"
     ]
    },
    {
     "data": {
      "text/plain": [
       "North Indian, Chinese                          417\n",
       "North Indian                                   413\n",
       "South Indian                                   342\n",
       "Fast Food                                      132\n",
       "South Indian, North Indian, Chinese            127\n",
       "                                              ... \n",
       "Cafe, Desserts, Fast Food, Burger                1\n",
       "Bakery, Cafe, Burger, Fast Food                  1\n",
       "Continental, American, Chinese, Finger Food      1\n",
       "North Indian, Kebab, Biryani, Chinese            1\n",
       "Turkish, Fast Food, Biryani, Chinese             1\n",
       "Name: cuisines type, Length: 2155, dtype: int64"
      ]
     },
     "execution_count": 22,
     "metadata": {},
     "output_type": "execute_result"
    }
   ],
   "source": [
    "#Cuisine type\n",
    "numOfCuisines = len(df['cuisines type'].unique())\n",
    "print(\"There are \",numOfCuisines,\"different kind of food cuisine\")\n",
    "print(\"Which are most popular food type:\")\n",
    "\n",
    "df['cuisines type'].value_counts()"
   ]
  },
  {
   "cell_type": "markdown",
   "id": "13b046f8",
   "metadata": {},
   "source": [
    "#### So north indian is most popular followed by chinese and South Indian, whereas seafoods comes among the least favourite"
   ]
  },
  {
   "cell_type": "code",
   "execution_count": 23,
   "id": "c9dc7276",
   "metadata": {},
   "outputs": [],
   "source": [
    "#Lets see more in detail which food type is least or more popular\n",
    "cuisine=df['cuisines type'].value_counts()"
   ]
  },
  {
   "cell_type": "code",
   "execution_count": 24,
   "id": "14834402",
   "metadata": {},
   "outputs": [
    {
     "data": {
      "text/plain": [
       "North Indian, Chinese                  417\n",
       "North Indian                           413\n",
       "South Indian                           342\n",
       "Fast Food                              132\n",
       "South Indian, North Indian, Chinese    127\n",
       "Biryani                                122\n",
       "Bakery, Desserts                        93\n",
       "Desserts                                85\n",
       "Cafe                                    81\n",
       "Bakery                                  76\n",
       "North Indian, South Indian, Chinese     73\n",
       "Chinese                                 69\n",
       "Chinese, North Indian                   69\n",
       "North Indian, South Indian              61\n",
       "South Indian, North Indian              56\n",
       "North Indian, Chinese, Biryani          56\n",
       "Mithai, Street Food                     54\n",
       "Street Food                             48\n",
       "Finger Food                             44\n",
       "Kerala                                  42\n",
       "Name: cuisines type, dtype: int64"
      ]
     },
     "execution_count": 24,
     "metadata": {},
     "output_type": "execute_result"
    }
   ],
   "source": [
    "#This gives list of most favourite food types\n",
    "cuisine.head(20)"
   ]
  },
  {
   "cell_type": "code",
   "execution_count": 25,
   "id": "303e496c",
   "metadata": {},
   "outputs": [
    {
     "data": {
      "text/plain": [
       "Continental, Burger, Salad, Pizza, Beverages                 1\n",
       "Bengali, Bihari                                              1\n",
       "North Indian, Iranian                                        1\n",
       "North Indian, Mughlai, Chinese, Arabian, Kerala              1\n",
       "BBQ, Rolls                                                   1\n",
       "Continental, North Indian, Chinese, Bengali                  1\n",
       "North Indian, South Indian, Maharashtrian                    1\n",
       "North Indian, Chinese, Street Food, Beverages                1\n",
       "North Indian, Italian, Chinese, Japanese                     1\n",
       "North Indian, South Indian, Chinese, Seafood                 1\n",
       "Hyderabadi, North Indian, South Indian, Biryani              1\n",
       "South Indian, Street Food, Fast Food, Desserts, Beverages    1\n",
       "North Indian, Italian, Finger Food, Continental              1\n",
       "Continental, Burger, Italian, Pizza, North Indian, Salad     1\n",
       "Italian, Mediterranean, European, Sandwich                   1\n",
       "Cafe, Desserts, Fast Food, Burger                            1\n",
       "Bakery, Cafe, Burger, Fast Food                              1\n",
       "Continental, American, Chinese, Finger Food                  1\n",
       "North Indian, Kebab, Biryani, Chinese                        1\n",
       "Turkish, Fast Food, Biryani, Chinese                         1\n",
       "Name: cuisines type, dtype: int64"
      ]
     },
     "execution_count": 25,
     "metadata": {},
     "output_type": "execute_result"
    }
   ],
   "source": [
    "#This gives list of least food types\n",
    "cuisine.tail(20)"
   ]
  },
  {
   "cell_type": "code",
   "execution_count": 26,
   "id": "f1699461",
   "metadata": {},
   "outputs": [
    {
     "data": {
      "text/plain": [
       "Yes    3721\n",
       "No     3263\n",
       "Name: online_order, dtype: int64"
      ]
     },
     "execution_count": 26,
     "metadata": {},
     "output_type": "execute_result"
    }
   ],
   "source": [
    "#lets check for online orders stats\n",
    "df['online_order'].value_counts()"
   ]
  },
  {
   "cell_type": "markdown",
   "id": "de8908c4",
   "metadata": {},
   "source": [
    "#### So we can say that online and offline orders are nearly the same"
   ]
  },
  {
   "cell_type": "markdown",
   "id": "22a004bc",
   "metadata": {},
   "source": [
    "### Handling numereic data"
   ]
  },
  {
   "cell_type": "code",
   "execution_count": 27,
   "id": "b089ef2f",
   "metadata": {},
   "outputs": [
    {
     "data": {
      "text/html": [
       "<div>\n",
       "<style scoped>\n",
       "    .dataframe tbody tr th:only-of-type {\n",
       "        vertical-align: middle;\n",
       "    }\n",
       "\n",
       "    .dataframe tbody tr th {\n",
       "        vertical-align: top;\n",
       "    }\n",
       "\n",
       "    .dataframe thead th {\n",
       "        text-align: right;\n",
       "    }\n",
       "</style>\n",
       "<table border=\"1\" class=\"dataframe\">\n",
       "  <thead>\n",
       "    <tr style=\"text-align: right;\">\n",
       "      <th></th>\n",
       "      <th>rate (out of 5)</th>\n",
       "      <th>num of ratings</th>\n",
       "      <th>avg cost (two people)</th>\n",
       "    </tr>\n",
       "  </thead>\n",
       "  <tbody>\n",
       "    <tr>\n",
       "      <th>count</th>\n",
       "      <td>6984.000000</td>\n",
       "      <td>6984.000000</td>\n",
       "      <td>6984.000000</td>\n",
       "    </tr>\n",
       "    <tr>\n",
       "      <th>mean</th>\n",
       "      <td>3.514304</td>\n",
       "      <td>190.928837</td>\n",
       "      <td>542.544244</td>\n",
       "    </tr>\n",
       "    <tr>\n",
       "      <th>std</th>\n",
       "      <td>0.463489</td>\n",
       "      <td>596.717894</td>\n",
       "      <td>464.266828</td>\n",
       "    </tr>\n",
       "    <tr>\n",
       "      <th>min</th>\n",
       "      <td>1.800000</td>\n",
       "      <td>1.000000</td>\n",
       "      <td>40.000000</td>\n",
       "    </tr>\n",
       "    <tr>\n",
       "      <th>25%</th>\n",
       "      <td>3.200000</td>\n",
       "      <td>15.000000</td>\n",
       "      <td>300.000000</td>\n",
       "    </tr>\n",
       "    <tr>\n",
       "      <th>50%</th>\n",
       "      <td>3.500000</td>\n",
       "      <td>40.000000</td>\n",
       "      <td>400.000000</td>\n",
       "    </tr>\n",
       "    <tr>\n",
       "      <th>75%</th>\n",
       "      <td>3.800000</td>\n",
       "      <td>130.000000</td>\n",
       "      <td>600.000000</td>\n",
       "    </tr>\n",
       "    <tr>\n",
       "      <th>max</th>\n",
       "      <td>4.900000</td>\n",
       "      <td>16345.000000</td>\n",
       "      <td>6000.000000</td>\n",
       "    </tr>\n",
       "  </tbody>\n",
       "</table>\n",
       "</div>"
      ],
      "text/plain": [
       "       rate (out of 5)  num of ratings  avg cost (two people)\n",
       "count      6984.000000     6984.000000            6984.000000\n",
       "mean          3.514304      190.928837             542.544244\n",
       "std           0.463489      596.717894             464.266828\n",
       "min           1.800000        1.000000              40.000000\n",
       "25%           3.200000       15.000000             300.000000\n",
       "50%           3.500000       40.000000             400.000000\n",
       "75%           3.800000      130.000000             600.000000\n",
       "max           4.900000    16345.000000            6000.000000"
      ]
     },
     "execution_count": 27,
     "metadata": {},
     "output_type": "execute_result"
    }
   ],
   "source": [
    "df.describe()"
   ]
  },
  {
   "cell_type": "code",
   "execution_count": 28,
   "id": "b8a1287f",
   "metadata": {},
   "outputs": [
    {
     "data": {
      "text/html": [
       "<div>\n",
       "<style scoped>\n",
       "    .dataframe tbody tr th:only-of-type {\n",
       "        vertical-align: middle;\n",
       "    }\n",
       "\n",
       "    .dataframe tbody tr th {\n",
       "        vertical-align: top;\n",
       "    }\n",
       "\n",
       "    .dataframe thead th {\n",
       "        text-align: right;\n",
       "    }\n",
       "</style>\n",
       "<table border=\"1\" class=\"dataframe\">\n",
       "  <thead>\n",
       "    <tr style=\"text-align: right;\">\n",
       "      <th></th>\n",
       "      <th>mean-rating</th>\n",
       "      <th>number of rating</th>\n",
       "    </tr>\n",
       "    <tr>\n",
       "      <th>restaurant name</th>\n",
       "      <th></th>\n",
       "      <th></th>\n",
       "    </tr>\n",
       "  </thead>\n",
       "  <tbody>\n",
       "    <tr>\n",
       "      <th>#FeelTheROLL</th>\n",
       "      <td>3.4</td>\n",
       "      <td>1</td>\n",
       "    </tr>\n",
       "    <tr>\n",
       "      <th>#L-81 Cafe</th>\n",
       "      <td>3.9</td>\n",
       "      <td>1</td>\n",
       "    </tr>\n",
       "    <tr>\n",
       "      <th>#refuel</th>\n",
       "      <td>3.7</td>\n",
       "      <td>1</td>\n",
       "    </tr>\n",
       "    <tr>\n",
       "      <th>'@ Biryani Central</th>\n",
       "      <td>2.7</td>\n",
       "      <td>1</td>\n",
       "    </tr>\n",
       "    <tr>\n",
       "      <th>'@ The Bbq</th>\n",
       "      <td>2.8</td>\n",
       "      <td>1</td>\n",
       "    </tr>\n",
       "    <tr>\n",
       "      <th>'@99</th>\n",
       "      <td>3.4</td>\n",
       "      <td>1</td>\n",
       "    </tr>\n",
       "    <tr>\n",
       "      <th>'@Italy</th>\n",
       "      <td>4.1</td>\n",
       "      <td>1</td>\n",
       "    </tr>\n",
       "    <tr>\n",
       "      <th>'@North Parontha Hut</th>\n",
       "      <td>2.8</td>\n",
       "      <td>1</td>\n",
       "    </tr>\n",
       "    <tr>\n",
       "      <th>1000 B.C</th>\n",
       "      <td>3.2</td>\n",
       "      <td>1</td>\n",
       "    </tr>\n",
       "    <tr>\n",
       "      <th>100ÃÂÃÂÃÂÃÂÃÂÃÂÃÂÃÂ°C</th>\n",
       "      <td>3.7</td>\n",
       "      <td>1</td>\n",
       "    </tr>\n",
       "    <tr>\n",
       "      <th>11 to 11 Express Biriyanis</th>\n",
       "      <td>3.5</td>\n",
       "      <td>1</td>\n",
       "    </tr>\n",
       "    <tr>\n",
       "      <th>1131 Bar + Kitchen</th>\n",
       "      <td>4.4</td>\n",
       "      <td>1</td>\n",
       "    </tr>\n",
       "    <tr>\n",
       "      <th>12th Main - Grand Mercure</th>\n",
       "      <td>4.1</td>\n",
       "      <td>1</td>\n",
       "    </tr>\n",
       "    <tr>\n",
       "      <th>1441 Pizzeria</th>\n",
       "      <td>4.1</td>\n",
       "      <td>1</td>\n",
       "    </tr>\n",
       "    <tr>\n",
       "      <th>1522 - The Pub</th>\n",
       "      <td>4.2</td>\n",
       "      <td>1</td>\n",
       "    </tr>\n",
       "    <tr>\n",
       "      <th>154 Breakfast Club</th>\n",
       "      <td>4.0</td>\n",
       "      <td>1</td>\n",
       "    </tr>\n",
       "    <tr>\n",
       "      <th>1722 Urban Bistro</th>\n",
       "      <td>4.1</td>\n",
       "      <td>1</td>\n",
       "    </tr>\n",
       "    <tr>\n",
       "      <th>18+ Ice Cafe</th>\n",
       "      <td>3.5</td>\n",
       "      <td>1</td>\n",
       "    </tr>\n",
       "    <tr>\n",
       "      <th>1947</th>\n",
       "      <td>3.9</td>\n",
       "      <td>1</td>\n",
       "    </tr>\n",
       "    <tr>\n",
       "      <th>1980s Games Cafe</th>\n",
       "      <td>3.4</td>\n",
       "      <td>1</td>\n",
       "    </tr>\n",
       "    <tr>\n",
       "      <th>1992 Chats - Space</th>\n",
       "      <td>3.7</td>\n",
       "      <td>1</td>\n",
       "    </tr>\n",
       "    <tr>\n",
       "      <th>1Q1</th>\n",
       "      <td>4.3</td>\n",
       "      <td>1</td>\n",
       "    </tr>\n",
       "    <tr>\n",
       "      <th>1TO3 Kitchen</th>\n",
       "      <td>3.1</td>\n",
       "      <td>1</td>\n",
       "    </tr>\n",
       "    <tr>\n",
       "      <th>2 Statez</th>\n",
       "      <td>3.7</td>\n",
       "      <td>1</td>\n",
       "    </tr>\n",
       "    <tr>\n",
       "      <th>20 Char - Sterlings MAC Hotel</th>\n",
       "      <td>4.0</td>\n",
       "      <td>1</td>\n",
       "    </tr>\n",
       "    <tr>\n",
       "      <th>20 Feet High</th>\n",
       "      <td>4.0</td>\n",
       "      <td>1</td>\n",
       "    </tr>\n",
       "    <tr>\n",
       "      <th>21 C - La Marvella Sarovar Premiere Hotel</th>\n",
       "      <td>3.6</td>\n",
       "      <td>1</td>\n",
       "    </tr>\n",
       "    <tr>\n",
       "      <th>24 Carats - The Capitol</th>\n",
       "      <td>3.1</td>\n",
       "      <td>1</td>\n",
       "    </tr>\n",
       "    <tr>\n",
       "      <th>24 Hours Cake Delivery</th>\n",
       "      <td>3.3</td>\n",
       "      <td>1</td>\n",
       "    </tr>\n",
       "    <tr>\n",
       "      <th>24 Hours Coffee Drop - La Classic</th>\n",
       "      <td>3.4</td>\n",
       "      <td>1</td>\n",
       "    </tr>\n",
       "  </tbody>\n",
       "</table>\n",
       "</div>"
      ],
      "text/plain": [
       "                                           mean-rating  number of rating\n",
       "restaurant name                                                         \n",
       "#FeelTheROLL                                       3.4                 1\n",
       "#L-81 Cafe                                         3.9                 1\n",
       "#refuel                                            3.7                 1\n",
       "'@ Biryani Central                                 2.7                 1\n",
       "'@ The Bbq                                         2.8                 1\n",
       "'@99                                               3.4                 1\n",
       "'@Italy                                            4.1                 1\n",
       "'@North Parontha Hut                               2.8                 1\n",
       "1000 B.C                                           3.2                 1\n",
       "100ÃÂÃÂÃÂÃÂÃÂÃÂÃÂÃÂ°C               3.7                 1\n",
       "11 to 11 Express Biriyanis                         3.5                 1\n",
       "1131 Bar + Kitchen                                 4.4                 1\n",
       "12th Main - Grand Mercure                          4.1                 1\n",
       "1441 Pizzeria                                      4.1                 1\n",
       "1522 - The Pub                                     4.2                 1\n",
       "154 Breakfast Club                                 4.0                 1\n",
       "1722 Urban Bistro                                  4.1                 1\n",
       "18+ Ice Cafe                                       3.5                 1\n",
       "1947                                               3.9                 1\n",
       "1980s Games Cafe                                   3.4                 1\n",
       "1992 Chats - Space                                 3.7                 1\n",
       "1Q1                                                4.3                 1\n",
       "1TO3 Kitchen                                       3.1                 1\n",
       "2 Statez                                           3.7                 1\n",
       "20 Char - Sterlings MAC Hotel                      4.0                 1\n",
       "20 Feet High                                       4.0                 1\n",
       "21 C - La Marvella Sarovar Premiere Hotel          3.6                 1\n",
       "24 Carats - The Capitol                            3.1                 1\n",
       "24 Hours Cake Delivery                             3.3                 1\n",
       "24 Hours Coffee Drop - La Classic                  3.4                 1"
      ]
     },
     "execution_count": 28,
     "metadata": {},
     "output_type": "execute_result"
    }
   ],
   "source": [
    "# Group by restaurant name and calculate mean rating and number of ratings\n",
    "ratings_info = df.groupby('restaurant name')['rate (out of 5)'].agg(['mean', 'count'])\n",
    "\n",
    "# Rename the columns for clarity\n",
    "ratings_info.rename(columns={'mean': 'mean-rating', 'count': 'number of rating'}, inplace=True)\n",
    "\n",
    "# Print the first few rows of the ratings information\n",
    "ratings_info.head(30)\n"
   ]
  },
  {
   "cell_type": "markdown",
   "id": "a545e3e0",
   "metadata": {},
   "source": [
    "### This means that we have all unique restaurant name/restaurant in dataset"
   ]
  },
  {
   "cell_type": "code",
   "execution_count": 29,
   "id": "323182cf",
   "metadata": {},
   "outputs": [
    {
     "data": {
      "text/html": [
       "<div>\n",
       "<style scoped>\n",
       "    .dataframe tbody tr th:only-of-type {\n",
       "        vertical-align: middle;\n",
       "    }\n",
       "\n",
       "    .dataframe tbody tr th {\n",
       "        vertical-align: top;\n",
       "    }\n",
       "\n",
       "    .dataframe thead th {\n",
       "        text-align: right;\n",
       "    }\n",
       "</style>\n",
       "<table border=\"1\" class=\"dataframe\">\n",
       "  <thead>\n",
       "    <tr style=\"text-align: right;\">\n",
       "      <th></th>\n",
       "      <th>mean-rating</th>\n",
       "      <th>number of rating</th>\n",
       "    </tr>\n",
       "    <tr>\n",
       "      <th>restaurant name</th>\n",
       "      <th></th>\n",
       "      <th></th>\n",
       "    </tr>\n",
       "  </thead>\n",
       "  <tbody>\n",
       "    <tr>\n",
       "      <th>SantÃÂÃÂÃÂÃÂÃÂÃÂÃÂÃÂÃÂÃÂÃÂÃÂÃÂÃÂÃÂÃÂ© Spa Cuisine</th>\n",
       "      <td>4.9</td>\n",
       "      <td>1</td>\n",
       "    </tr>\n",
       "    <tr>\n",
       "      <th>Asia Kitchen By Mainland China</th>\n",
       "      <td>4.9</td>\n",
       "      <td>1</td>\n",
       "    </tr>\n",
       "    <tr>\n",
       "      <th>Byg Brewski Brewing Company</th>\n",
       "      <td>4.9</td>\n",
       "      <td>1</td>\n",
       "    </tr>\n",
       "    <tr>\n",
       "      <th>Belgian Waffle Factory</th>\n",
       "      <td>4.8</td>\n",
       "      <td>1</td>\n",
       "    </tr>\n",
       "    <tr>\n",
       "      <th>Punjab Grill</th>\n",
       "      <td>4.8</td>\n",
       "      <td>1</td>\n",
       "    </tr>\n",
       "    <tr>\n",
       "      <th>O.G. Variar &amp; Sons</th>\n",
       "      <td>4.8</td>\n",
       "      <td>1</td>\n",
       "    </tr>\n",
       "    <tr>\n",
       "      <th>The Pizza Bakery</th>\n",
       "      <td>4.8</td>\n",
       "      <td>1</td>\n",
       "    </tr>\n",
       "    <tr>\n",
       "      <th>Flechazo</th>\n",
       "      <td>4.7</td>\n",
       "      <td>1</td>\n",
       "    </tr>\n",
       "    <tr>\n",
       "      <th>CTR</th>\n",
       "      <td>4.7</td>\n",
       "      <td>1</td>\n",
       "    </tr>\n",
       "    <tr>\n",
       "      <th>You Mee</th>\n",
       "      <td>4.7</td>\n",
       "      <td>1</td>\n",
       "    </tr>\n",
       "  </tbody>\n",
       "</table>\n",
       "</div>"
      ],
      "text/plain": [
       "                                                    mean-rating  \\\n",
       "restaurant name                                                   \n",
       "SantÃÂÃÂÃÂÃÂÃÂÃÂÃÂÃÂÃÂÃÂÃÂ...          4.9   \n",
       "Asia Kitchen By Mainland China                              4.9   \n",
       "Byg Brewski Brewing Company                                 4.9   \n",
       "Belgian Waffle Factory                                      4.8   \n",
       "Punjab Grill                                                4.8   \n",
       "O.G. Variar & Sons                                          4.8   \n",
       "The Pizza Bakery                                            4.8   \n",
       "Flechazo                                                    4.7   \n",
       "CTR                                                         4.7   \n",
       "You Mee                                                     4.7   \n",
       "\n",
       "                                                    number of rating  \n",
       "restaurant name                                                       \n",
       "SantÃÂÃÂÃÂÃÂÃÂÃÂÃÂÃÂÃÂÃÂÃÂ...                 1  \n",
       "Asia Kitchen By Mainland China                                     1  \n",
       "Byg Brewski Brewing Company                                        1  \n",
       "Belgian Waffle Factory                                             1  \n",
       "Punjab Grill                                                       1  \n",
       "O.G. Variar & Sons                                                 1  \n",
       "The Pizza Bakery                                                   1  \n",
       "Flechazo                                                           1  \n",
       "CTR                                                                1  \n",
       "You Mee                                                            1  "
      ]
     },
     "execution_count": 29,
     "metadata": {},
     "output_type": "execute_result"
    }
   ],
   "source": [
    " ratings_info.sort_values(by='mean-rating', ascending=False,inplace=True)\n",
    " ratings_info.head(10)\n"
   ]
  },
  {
   "cell_type": "code",
   "execution_count": 30,
   "id": "37282807",
   "metadata": {},
   "outputs": [
    {
     "data": {
      "text/plain": [
       "6984"
      ]
     },
     "execution_count": 30,
     "metadata": {},
     "output_type": "execute_result"
    }
   ],
   "source": [
    "len(df['restaurant name'].unique())"
   ]
  },
  {
   "cell_type": "code",
   "execution_count": 31,
   "id": "a628fc6c",
   "metadata": {},
   "outputs": [
    {
     "data": {
      "text/plain": [
       "Index(['restaurant name', 'restaurant type', 'rate (out of 5)',\n",
       "       'num of ratings', 'avg cost (two people)', 'online_order',\n",
       "       'table booking', 'cuisines type', 'area', 'local address'],\n",
       "      dtype='object')"
      ]
     },
     "execution_count": 31,
     "metadata": {},
     "output_type": "execute_result"
    }
   ],
   "source": [
    "df.columns"
   ]
  },
  {
   "cell_type": "code",
   "execution_count": 32,
   "id": "416fd767",
   "metadata": {},
   "outputs": [],
   "source": [
    "cost_restaurant = df.sort_values(by='avg cost (two people)', ascending=False)"
   ]
  },
  {
   "cell_type": "code",
   "execution_count": 33,
   "id": "1a45fe25",
   "metadata": {},
   "outputs": [
    {
     "data": {
      "text/html": [
       "<div>\n",
       "<style scoped>\n",
       "    .dataframe tbody tr th:only-of-type {\n",
       "        vertical-align: middle;\n",
       "    }\n",
       "\n",
       "    .dataframe tbody tr th {\n",
       "        vertical-align: top;\n",
       "    }\n",
       "\n",
       "    .dataframe thead th {\n",
       "        text-align: right;\n",
       "    }\n",
       "</style>\n",
       "<table border=\"1\" class=\"dataframe\">\n",
       "  <thead>\n",
       "    <tr style=\"text-align: right;\">\n",
       "      <th></th>\n",
       "      <th>restaurant name</th>\n",
       "      <th>avg cost (two people)</th>\n",
       "    </tr>\n",
       "  </thead>\n",
       "  <tbody>\n",
       "    <tr>\n",
       "      <th>0</th>\n",
       "      <td>#FeelTheROLL</td>\n",
       "      <td>200.0</td>\n",
       "    </tr>\n",
       "    <tr>\n",
       "      <th>1</th>\n",
       "      <td>#L-81 Cafe</td>\n",
       "      <td>400.0</td>\n",
       "    </tr>\n",
       "    <tr>\n",
       "      <th>2</th>\n",
       "      <td>#refuel</td>\n",
       "      <td>400.0</td>\n",
       "    </tr>\n",
       "    <tr>\n",
       "      <th>3</th>\n",
       "      <td>'@ Biryani Central</td>\n",
       "      <td>550.0</td>\n",
       "    </tr>\n",
       "    <tr>\n",
       "      <th>4</th>\n",
       "      <td>'@ The Bbq</td>\n",
       "      <td>700.0</td>\n",
       "    </tr>\n",
       "    <tr>\n",
       "      <th>5</th>\n",
       "      <td>'@99</td>\n",
       "      <td>200.0</td>\n",
       "    </tr>\n",
       "  </tbody>\n",
       "</table>\n",
       "</div>"
      ],
      "text/plain": [
       "      restaurant name  avg cost (two people)\n",
       "0        #FeelTheROLL                  200.0\n",
       "1          #L-81 Cafe                  400.0\n",
       "2             #refuel                  400.0\n",
       "3  '@ Biryani Central                  550.0\n",
       "4          '@ The Bbq                  700.0\n",
       "5                '@99                  200.0"
      ]
     },
     "execution_count": 33,
     "metadata": {},
     "output_type": "execute_result"
    }
   ],
   "source": [
    "columns=[\"restaurant name\",\"avg cost (two people)\"]\n",
    "rows=[0,1,2,3,4,5]\n",
    "cost_restaurant.loc[rows,columns]"
   ]
  },
  {
   "cell_type": "code",
   "execution_count": 34,
   "id": "60540851",
   "metadata": {},
   "outputs": [
    {
     "data": {
      "text/html": [
       "<div>\n",
       "<style scoped>\n",
       "    .dataframe tbody tr th:only-of-type {\n",
       "        vertical-align: middle;\n",
       "    }\n",
       "\n",
       "    .dataframe tbody tr th {\n",
       "        vertical-align: top;\n",
       "    }\n",
       "\n",
       "    .dataframe thead th {\n",
       "        text-align: right;\n",
       "    }\n",
       "</style>\n",
       "<table border=\"1\" class=\"dataframe\">\n",
       "  <thead>\n",
       "    <tr style=\"text-align: right;\">\n",
       "      <th></th>\n",
       "      <th>restaurant name</th>\n",
       "      <th>avg cost (two people)</th>\n",
       "      <th>rate (out of 5)</th>\n",
       "    </tr>\n",
       "  </thead>\n",
       "  <tbody>\n",
       "    <tr>\n",
       "      <th>0</th>\n",
       "      <td>#FeelTheROLL</td>\n",
       "      <td>200.0</td>\n",
       "      <td>3.4</td>\n",
       "    </tr>\n",
       "    <tr>\n",
       "      <th>1</th>\n",
       "      <td>#L-81 Cafe</td>\n",
       "      <td>400.0</td>\n",
       "      <td>3.9</td>\n",
       "    </tr>\n",
       "    <tr>\n",
       "      <th>2</th>\n",
       "      <td>#refuel</td>\n",
       "      <td>400.0</td>\n",
       "      <td>3.7</td>\n",
       "    </tr>\n",
       "    <tr>\n",
       "      <th>3</th>\n",
       "      <td>'@ Biryani Central</td>\n",
       "      <td>550.0</td>\n",
       "      <td>2.7</td>\n",
       "    </tr>\n",
       "    <tr>\n",
       "      <th>4</th>\n",
       "      <td>'@ The Bbq</td>\n",
       "      <td>700.0</td>\n",
       "      <td>2.8</td>\n",
       "    </tr>\n",
       "    <tr>\n",
       "      <th>5</th>\n",
       "      <td>'@99</td>\n",
       "      <td>200.0</td>\n",
       "      <td>3.4</td>\n",
       "    </tr>\n",
       "  </tbody>\n",
       "</table>\n",
       "</div>"
      ],
      "text/plain": [
       "      restaurant name  avg cost (two people)  rate (out of 5)\n",
       "0        #FeelTheROLL                  200.0              3.4\n",
       "1          #L-81 Cafe                  400.0              3.9\n",
       "2             #refuel                  400.0              3.7\n",
       "3  '@ Biryani Central                  550.0              2.7\n",
       "4          '@ The Bbq                  700.0              2.8\n",
       "5                '@99                  200.0              3.4"
      ]
     },
     "execution_count": 34,
     "metadata": {},
     "output_type": "execute_result"
    }
   ],
   "source": [
    "columns.append('rate (out of 5)')\n",
    "cost_restaurant.loc[rows,columns]"
   ]
  },
  {
   "cell_type": "markdown",
   "id": "1790aba4",
   "metadata": {},
   "source": [
    "### Let us check correlation between average cost and rating"
   ]
  },
  {
   "cell_type": "code",
   "execution_count": 35,
   "id": "57da25a0",
   "metadata": {},
   "outputs": [
    {
     "name": "stdout",
     "output_type": "stream",
     "text": [
      "Correlation: 0.3759159585731127\n"
     ]
    }
   ],
   "source": [
    "correlation = cost_restaurant[\"avg cost (two people)\"].corr(cost_restaurant[\"rate (out of 5)\"])\n",
    "print(\"Correlation:\", correlation)\n"
   ]
  },
  {
   "cell_type": "markdown",
   "id": "e20dc9da",
   "metadata": {},
   "source": [
    "A correlation value of 0.3759159585731127 (approximately 0.38) indicates a positive correlation between the two variables we're analyzing. In this case,we're calculating the correlation between the \"avg cost (two people)\" and \"rate (out of 5)\" columns.\n",
    "\n",
    "A positive correlation means that as the value of one variable increases, the value of the other variable tends to increase as well. However, the strength of the correlation is moderate (not too strong), as the correlation coefficient is closer to 0 than to 1.\n",
    "\n",
    "In the context of our data, this correlation value suggests that there is some tendency for higher average cost values to be associated with higher rating values (out of 5). However, the correlation is not strong enough to make definitive conclusions about a direct cause-and-effect relationship between these variables. Other factors might also be influencing the relationship between the average cost and the rating."
   ]
  },
  {
   "cell_type": "markdown",
   "id": "ce34c697",
   "metadata": {},
   "source": [
    "## Visualization "
   ]
  },
  {
   "cell_type": "code",
   "execution_count": 36,
   "id": "d3fd73a5",
   "metadata": {},
   "outputs": [
    {
     "data": {
      "text/html": [
       "<div>\n",
       "<style scoped>\n",
       "    .dataframe tbody tr th:only-of-type {\n",
       "        vertical-align: middle;\n",
       "    }\n",
       "\n",
       "    .dataframe tbody tr th {\n",
       "        vertical-align: top;\n",
       "    }\n",
       "\n",
       "    .dataframe thead th {\n",
       "        text-align: right;\n",
       "    }\n",
       "</style>\n",
       "<table border=\"1\" class=\"dataframe\">\n",
       "  <thead>\n",
       "    <tr style=\"text-align: right;\">\n",
       "      <th></th>\n",
       "      <th>restaurant name</th>\n",
       "      <th>restaurant type</th>\n",
       "      <th>rate (out of 5)</th>\n",
       "      <th>num of ratings</th>\n",
       "      <th>avg cost (two people)</th>\n",
       "      <th>online_order</th>\n",
       "      <th>table booking</th>\n",
       "      <th>cuisines type</th>\n",
       "      <th>area</th>\n",
       "      <th>local address</th>\n",
       "    </tr>\n",
       "  </thead>\n",
       "  <tbody>\n",
       "    <tr>\n",
       "      <th>0</th>\n",
       "      <td>#FeelTheROLL</td>\n",
       "      <td>Quick Bites</td>\n",
       "      <td>3.4</td>\n",
       "      <td>7</td>\n",
       "      <td>200.0</td>\n",
       "      <td>No</td>\n",
       "      <td>No</td>\n",
       "      <td>Fast Food</td>\n",
       "      <td>Bellandur</td>\n",
       "      <td>Bellandur</td>\n",
       "    </tr>\n",
       "    <tr>\n",
       "      <th>1</th>\n",
       "      <td>#L-81 Cafe</td>\n",
       "      <td>Quick Bites</td>\n",
       "      <td>3.9</td>\n",
       "      <td>48</td>\n",
       "      <td>400.0</td>\n",
       "      <td>Yes</td>\n",
       "      <td>No</td>\n",
       "      <td>Fast Food, Beverages</td>\n",
       "      <td>Byresandra,Tavarekere,Madiwala</td>\n",
       "      <td>HSR</td>\n",
       "    </tr>\n",
       "    <tr>\n",
       "      <th>2</th>\n",
       "      <td>#refuel</td>\n",
       "      <td>Cafe</td>\n",
       "      <td>3.7</td>\n",
       "      <td>37</td>\n",
       "      <td>400.0</td>\n",
       "      <td>Yes</td>\n",
       "      <td>No</td>\n",
       "      <td>Cafe, Beverages</td>\n",
       "      <td>Bannerghatta Road</td>\n",
       "      <td>Bannerghatta Road</td>\n",
       "    </tr>\n",
       "    <tr>\n",
       "      <th>3</th>\n",
       "      <td>'@ Biryani Central</td>\n",
       "      <td>Casual Dining</td>\n",
       "      <td>2.7</td>\n",
       "      <td>135</td>\n",
       "      <td>550.0</td>\n",
       "      <td>Yes</td>\n",
       "      <td>No</td>\n",
       "      <td>Biryani, Mughlai, Chinese</td>\n",
       "      <td>Marathahalli</td>\n",
       "      <td>Marathahalli</td>\n",
       "    </tr>\n",
       "    <tr>\n",
       "      <th>4</th>\n",
       "      <td>'@ The Bbq</td>\n",
       "      <td>Casual Dining</td>\n",
       "      <td>2.8</td>\n",
       "      <td>40</td>\n",
       "      <td>700.0</td>\n",
       "      <td>Yes</td>\n",
       "      <td>No</td>\n",
       "      <td>BBQ, Continental, North Indian, Chinese, Bever...</td>\n",
       "      <td>Bellandur</td>\n",
       "      <td>Bellandur</td>\n",
       "    </tr>\n",
       "  </tbody>\n",
       "</table>\n",
       "</div>"
      ],
      "text/plain": [
       "      restaurant name restaurant type  rate (out of 5)  num of ratings  \\\n",
       "0        #FeelTheROLL     Quick Bites              3.4               7   \n",
       "1          #L-81 Cafe     Quick Bites              3.9              48   \n",
       "2             #refuel            Cafe              3.7              37   \n",
       "3  '@ Biryani Central   Casual Dining              2.7             135   \n",
       "4          '@ The Bbq   Casual Dining              2.8              40   \n",
       "\n",
       "   avg cost (two people) online_order table booking  \\\n",
       "0                  200.0           No            No   \n",
       "1                  400.0          Yes            No   \n",
       "2                  400.0          Yes            No   \n",
       "3                  550.0          Yes            No   \n",
       "4                  700.0          Yes            No   \n",
       "\n",
       "                                       cuisines type  \\\n",
       "0                                          Fast Food   \n",
       "1                               Fast Food, Beverages   \n",
       "2                                    Cafe, Beverages   \n",
       "3                          Biryani, Mughlai, Chinese   \n",
       "4  BBQ, Continental, North Indian, Chinese, Bever...   \n",
       "\n",
       "                             area      local address  \n",
       "0                       Bellandur          Bellandur  \n",
       "1  Byresandra,Tavarekere,Madiwala                HSR  \n",
       "2               Bannerghatta Road  Bannerghatta Road  \n",
       "3                    Marathahalli       Marathahalli  \n",
       "4                       Bellandur          Bellandur  "
      ]
     },
     "execution_count": 36,
     "metadata": {},
     "output_type": "execute_result"
    }
   ],
   "source": [
    "df.head()"
   ]
  },
  {
   "cell_type": "code",
   "execution_count": 37,
   "id": "c435a5e0",
   "metadata": {},
   "outputs": [],
   "source": [
    "import seaborn as sns\n",
    "import matplotlib.pyplot as plt\n"
   ]
  },
  {
   "cell_type": "code",
   "execution_count": 38,
   "id": "7c6aaa9c",
   "metadata": {},
   "outputs": [
    {
     "data": {
      "image/png": "[encoded data removed]",
      "text/plain": [
       "<Figure size 1200x600 with 1 Axes>"
      ]
     },
     "metadata": {},
     "output_type": "display_data"
    }
   ],
   "source": [
    "# Calculate value counts for restaurant types\n",
    "restaurant_type_counts = df[\"restaurant type\"].value_counts().head(10)\n",
    "\n",
    "sns.set(style=\"whitegrid\")\n",
    "plt.figure(figsize=(12, 6))\n",
    "\n",
    "# Create a bar plot for the top 10 restaurant types\n",
    "sns.barplot(x=restaurant_type_counts.index, y=restaurant_type_counts.values, palette=\"Set2\")\n",
    "\n",
    "plt.title(\"Top 20 Restaurant Types\")\n",
    "plt.xticks(rotation=45)  # Rotate x-axis labels for better visibility\n",
    "plt.xlabel(\"Restaurant Type\")\n",
    "plt.ylabel(\"Count\")\n",
    "\n",
    "plt.tight_layout()\n",
    "plt.show()\n"
   ]
  },
  {
   "cell_type": "code",
   "execution_count": 40,
   "id": "94c60c3d",
   "metadata": {},
   "outputs": [
    {
     "data": {
      "image/png": "[encoded data removed]",
      "text/plain": [
       "<Figure size 1200x600 with 1 Axes>"
      ]
     },
     "metadata": {},
     "output_type": "display_data"
    }
   ],
   "source": [
    "# Calculate value counts for restaurant types\n",
    "restaurant_type_counts = df[\"restaurant type\"].value_counts().tail(10)\n",
    "\n",
    "sns.set(style=\"whitegrid\")\n",
    "plt.figure(figsize=(12, 6))\n",
    "\n",
    "# Create a bar plot for the top 10 restaurant types\n",
    "sns.barplot(x=restaurant_type_counts.index, y=restaurant_type_counts.values, palette=\"Set2\")\n",
    "\n",
    "plt.title(\"Top 20 Restaurant Types\")\n",
    "plt.xticks(rotation=45)  # Rotate x-axis labels for better visibility\n",
    "plt.xlabel(\"Restaurant Type\")\n",
    "plt.ylabel(\"Count\")\n",
    "\n",
    "plt.tight_layout()\n",
    "plt.show()"
   ]
  },
  {
   "cell_type": "code",
   "execution_count": 41,
   "id": "62948bcf",
   "metadata": {},
   "outputs": [
    {
     "data": {
      "image/png": "[encoded data removed]",
      "text/plain": [
       "<Figure size 1200x600 with 1 Axes>"
      ]
     },
     "metadata": {},
     "output_type": "display_data"
    }
   ],
   "source": [
    "# Calculate value counts for restaurant types\n",
    "restaurant_type_counts = df[\"cuisines type\"].value_counts().head(10)\n",
    "\n",
    "sns.set(style=\"whitegrid\")\n",
    "plt.figure(figsize=(12, 6))\n",
    "\n",
    "# Create a bar plot for the top 10 restaurant types\n",
    "sns.barplot(x=restaurant_type_counts.index, y=restaurant_type_counts.values, palette=\"Set2\")\n",
    "\n",
    "plt.title(\"Top 20 Restaurant Types\")\n",
    "plt.xticks(rotation=45)  # Rotate x-axis labels for better visibility\n",
    "plt.xlabel(\"Restaurant Type\")\n",
    "plt.ylabel(\"Count\")\n",
    "\n",
    "plt.tight_layout()\n",
    "plt.show()"
   ]
  },
  {
   "cell_type": "code",
   "execution_count": 39,
   "id": "f1e2429e",
   "metadata": {},
   "outputs": [
    {
     "data": {
      "text/plain": [
       "<seaborn.axisgrid.PairGrid at 0x23611f33a00>"
      ]
     },
     "execution_count": 39,
     "metadata": {},
     "output_type": "execute_result"
    },
    {
     "data": {
      "image/png": "[encoded data removed]",
      "text/plain": [
       "<Figure size 750x750 with 12 Axes>"
      ]
     },
     "metadata": {},
     "output_type": "display_data"
    }
   ],
   "source": [
    "sns.pairplot(df)"
   ]
  },
  {
   "cell_type": "markdown",
   "id": "5c0f351b",
   "metadata": {},
   "source": [
    "# Aactionable points"
   ]
  },
  {
   "cell_type": "markdown",
   "id": "5c9ce451",
   "metadata": {},
   "source": [
    "### Restaurants of types \"quick bytes\",\"casual dining\" and \"cafe\" are most popular, delivery and takeways are among others, which means setting one such business will be better as demand is more for them\n",
    "### There are more reviews/ratings for average cost under 2000 ,which means people rate affordable options to help others, which translates to better reach effectively.\n",
    "### Restaurants having mixed types, like\" food court-dessert parlour\",lounge-cafe are least popular, which means targetting a specific domain helps as it removes confusion in consumer\n",
    "\n",
    "### People prefer \"North Indian\",\"South Indian\" and \"chinese\" more in cuisine so ,keeping these cuisiune can be a profitable in terms of food ordering business"
   ]
  },
  {
   "cell_type": "code",
   "execution_count": null,
   "id": "4c5cf957",
   "metadata": {},
   "outputs": [],
   "source": []
  }
 ],
 "metadata": {
  "kernelspec": {
   "display_name": "Python 3 (ipykernel)",
   "language": "python",
   "name": "python3"
  },
  "language_info": {
   "codemirror_mode": {
    "name": "ipython",
    "version": 3
   },
   "file_extension": ".py",
   "mimetype": "text/x-python",
   "name": "python",
   "nbconvert_exporter": "python",
   "pygments_lexer": "ipython3",
   "version": "3.9.13"
  }
 },
 "nbformat": 4,
 "nbformat_minor": 5
}
